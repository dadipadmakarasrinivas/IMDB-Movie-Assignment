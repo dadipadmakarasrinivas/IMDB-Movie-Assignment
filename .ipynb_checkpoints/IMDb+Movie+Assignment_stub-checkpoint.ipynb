{
 "cells": [
  {
   "cell_type": "code",
   "execution_count": 99,
   "metadata": {},
   "outputs": [],
   "source": [
    "# Filtering out the warnings\n",
    "\n",
    "import warnings\n",
    "\n",
    "warnings.filterwarnings('ignore')"
   ]
  },
  {
   "cell_type": "code",
   "execution_count": 100,
   "metadata": {},
   "outputs": [],
   "source": [
    "# Importing the required libraries\n",
    "\n",
    "import numpy as np\n",
    "import pandas as pd\n",
    "import seaborn as sns\n",
    "import matplotlib.pyplot as plt\n",
    "import scipy.stats as stats\n"
   ]
  },
  {
   "cell_type": "markdown",
   "metadata": {},
   "source": [
    "# <font color = blue> IMDb Movie Assignment </font>\n",
    "\n",
    "You have the data for the 100 top-rated movies from the past decade along with various pieces of information about the movie, its actors, and the voters who have rated these movies online. In this assignment, you will try to find some interesting insights into these movies and their voters, using Python."
   ]
  },
  {
   "cell_type": "markdown",
   "metadata": {},
   "source": [
    "##  Task 1: Reading the data"
   ]
  },
  {
   "cell_type": "markdown",
   "metadata": {},
   "source": [
    "- ### Subtask 1.1: Read the Movies Data.\n",
    "\n",
    "Read the movies data file provided and store it in a dataframe `movies`."
   ]
  },
  {
   "cell_type": "code",
   "execution_count": 101,
   "metadata": {},
   "outputs": [],
   "source": [
    "# Read the csv file using 'read_csv'. Please write your dataset location here.\n",
    "movie_df = pd.read_csv(\"Movie+Assignment+Data.csv\")\n"
   ]
  },
  {
   "cell_type": "markdown",
   "metadata": {},
   "source": [
    "- ###  Subtask 1.2: Inspect the Dataframe\n",
    "\n",
    "Inspect the dataframe for dimensions, null-values, and summary of different numeric columns."
   ]
  },
  {
   "cell_type": "code",
   "execution_count": 102,
   "metadata": {},
   "outputs": [
    {
     "data": {
      "text/plain": [
       "(100, 62)"
      ]
     },
     "execution_count": 102,
     "metadata": {},
     "output_type": "execute_result"
    }
   ],
   "source": [
    "# Check the number of rows and columns in the dataframe\n",
    "movie_df.shape\n",
    "\n",
    "## 100 rows 62 columns\n"
   ]
  },
  {
   "cell_type": "code",
   "execution_count": 103,
   "metadata": {},
   "outputs": [
    {
     "data": {
      "text/html": [
       "<div>\n",
       "<style scoped>\n",
       "    .dataframe tbody tr th:only-of-type {\n",
       "        vertical-align: middle;\n",
       "    }\n",
       "\n",
       "    .dataframe tbody tr th {\n",
       "        vertical-align: top;\n",
       "    }\n",
       "\n",
       "    .dataframe thead th {\n",
       "        text-align: right;\n",
       "    }\n",
       "</style>\n",
       "<table border=\"1\" class=\"dataframe\">\n",
       "  <thead>\n",
       "    <tr style=\"text-align: right;\">\n",
       "      <th></th>\n",
       "      <th>Title</th>\n",
       "      <th>title_year</th>\n",
       "      <th>budget</th>\n",
       "      <th>Gross</th>\n",
       "      <th>actor_1_name</th>\n",
       "      <th>actor_2_name</th>\n",
       "      <th>actor_3_name</th>\n",
       "      <th>actor_1_facebook_likes</th>\n",
       "      <th>actor_2_facebook_likes</th>\n",
       "      <th>actor_3_facebook_likes</th>\n",
       "      <th>...</th>\n",
       "      <th>Votes3044M</th>\n",
       "      <th>Votes3044F</th>\n",
       "      <th>Votes45A</th>\n",
       "      <th>Votes45AM</th>\n",
       "      <th>Votes45AF</th>\n",
       "      <th>Votes1000</th>\n",
       "      <th>VotesUS</th>\n",
       "      <th>VotesnUS</th>\n",
       "      <th>content_rating</th>\n",
       "      <th>Country</th>\n",
       "    </tr>\n",
       "  </thead>\n",
       "  <tbody>\n",
       "    <tr>\n",
       "      <th>0</th>\n",
       "      <td>La La Land</td>\n",
       "      <td>2016</td>\n",
       "      <td>30000000</td>\n",
       "      <td>151101803</td>\n",
       "      <td>Ryan Gosling</td>\n",
       "      <td>Emma Stone</td>\n",
       "      <td>Amiée Conn</td>\n",
       "      <td>14000</td>\n",
       "      <td>19000.0</td>\n",
       "      <td>NaN</td>\n",
       "      <td>...</td>\n",
       "      <td>7.9</td>\n",
       "      <td>7.8</td>\n",
       "      <td>7.6</td>\n",
       "      <td>7.6</td>\n",
       "      <td>7.5</td>\n",
       "      <td>7.1</td>\n",
       "      <td>8.3</td>\n",
       "      <td>8.1</td>\n",
       "      <td>PG-13</td>\n",
       "      <td>USA</td>\n",
       "    </tr>\n",
       "    <tr>\n",
       "      <th>1</th>\n",
       "      <td>Zootopia</td>\n",
       "      <td>2016</td>\n",
       "      <td>150000000</td>\n",
       "      <td>341268248</td>\n",
       "      <td>Ginnifer Goodwin</td>\n",
       "      <td>Jason Bateman</td>\n",
       "      <td>Idris Elba</td>\n",
       "      <td>2800</td>\n",
       "      <td>28000.0</td>\n",
       "      <td>27000.0</td>\n",
       "      <td>...</td>\n",
       "      <td>7.8</td>\n",
       "      <td>8.1</td>\n",
       "      <td>7.8</td>\n",
       "      <td>7.8</td>\n",
       "      <td>8.1</td>\n",
       "      <td>7.6</td>\n",
       "      <td>8.0</td>\n",
       "      <td>8.0</td>\n",
       "      <td>PG</td>\n",
       "      <td>USA</td>\n",
       "    </tr>\n",
       "    <tr>\n",
       "      <th>2</th>\n",
       "      <td>Lion</td>\n",
       "      <td>2016</td>\n",
       "      <td>12000000</td>\n",
       "      <td>51738905</td>\n",
       "      <td>Dev Patel</td>\n",
       "      <td>Nicole Kidman</td>\n",
       "      <td>Rooney Mara</td>\n",
       "      <td>33000</td>\n",
       "      <td>96000.0</td>\n",
       "      <td>9800.0</td>\n",
       "      <td>...</td>\n",
       "      <td>7.9</td>\n",
       "      <td>8.2</td>\n",
       "      <td>8.0</td>\n",
       "      <td>7.9</td>\n",
       "      <td>8.4</td>\n",
       "      <td>7.1</td>\n",
       "      <td>8.1</td>\n",
       "      <td>8.0</td>\n",
       "      <td>PG-13</td>\n",
       "      <td>Australia</td>\n",
       "    </tr>\n",
       "    <tr>\n",
       "      <th>3</th>\n",
       "      <td>Arrival</td>\n",
       "      <td>2016</td>\n",
       "      <td>47000000</td>\n",
       "      <td>100546139</td>\n",
       "      <td>Amy Adams</td>\n",
       "      <td>Jeremy Renner</td>\n",
       "      <td>Forest Whitaker</td>\n",
       "      <td>35000</td>\n",
       "      <td>5300.0</td>\n",
       "      <td>NaN</td>\n",
       "      <td>...</td>\n",
       "      <td>7.8</td>\n",
       "      <td>7.8</td>\n",
       "      <td>7.6</td>\n",
       "      <td>7.6</td>\n",
       "      <td>7.7</td>\n",
       "      <td>7.3</td>\n",
       "      <td>8.0</td>\n",
       "      <td>7.9</td>\n",
       "      <td>PG-13</td>\n",
       "      <td>USA</td>\n",
       "    </tr>\n",
       "    <tr>\n",
       "      <th>4</th>\n",
       "      <td>Manchester by the Sea</td>\n",
       "      <td>2016</td>\n",
       "      <td>9000000</td>\n",
       "      <td>47695371</td>\n",
       "      <td>Casey Affleck</td>\n",
       "      <td>Michelle Williams</td>\n",
       "      <td>Kyle Chandler</td>\n",
       "      <td>518</td>\n",
       "      <td>71000.0</td>\n",
       "      <td>3300.0</td>\n",
       "      <td>...</td>\n",
       "      <td>7.7</td>\n",
       "      <td>7.7</td>\n",
       "      <td>7.6</td>\n",
       "      <td>7.6</td>\n",
       "      <td>7.6</td>\n",
       "      <td>7.1</td>\n",
       "      <td>7.9</td>\n",
       "      <td>7.8</td>\n",
       "      <td>R</td>\n",
       "      <td>USA</td>\n",
       "    </tr>\n",
       "  </tbody>\n",
       "</table>\n",
       "<p>5 rows × 62 columns</p>\n",
       "</div>"
      ],
      "text/plain": [
       "                   Title  title_year     budget      Gross      actor_1_name  \\\n",
       "0             La La Land        2016   30000000  151101803      Ryan Gosling   \n",
       "1               Zootopia        2016  150000000  341268248  Ginnifer Goodwin   \n",
       "2                   Lion        2016   12000000   51738905         Dev Patel   \n",
       "3                Arrival        2016   47000000  100546139         Amy Adams   \n",
       "4  Manchester by the Sea        2016    9000000   47695371     Casey Affleck   \n",
       "\n",
       "         actor_2_name     actor_3_name  actor_1_facebook_likes  \\\n",
       "0          Emma Stone       Amiée Conn                   14000   \n",
       "1       Jason Bateman       Idris Elba                    2800   \n",
       "2       Nicole Kidman      Rooney Mara                   33000   \n",
       "3       Jeremy Renner  Forest Whitaker                   35000   \n",
       "4  Michelle Williams     Kyle Chandler                     518   \n",
       "\n",
       "   actor_2_facebook_likes  actor_3_facebook_likes  ...  Votes3044M Votes3044F  \\\n",
       "0                 19000.0                     NaN  ...         7.9        7.8   \n",
       "1                 28000.0                 27000.0  ...         7.8        8.1   \n",
       "2                 96000.0                  9800.0  ...         7.9        8.2   \n",
       "3                  5300.0                     NaN  ...         7.8        7.8   \n",
       "4                 71000.0                  3300.0  ...         7.7        7.7   \n",
       "\n",
       "  Votes45A Votes45AM  Votes45AF  Votes1000  VotesUS  VotesnUS  content_rating  \\\n",
       "0      7.6       7.6        7.5        7.1      8.3       8.1           PG-13   \n",
       "1      7.8       7.8        8.1        7.6      8.0       8.0              PG   \n",
       "2      8.0       7.9        8.4        7.1      8.1       8.0           PG-13   \n",
       "3      7.6       7.6        7.7        7.3      8.0       7.9           PG-13   \n",
       "4      7.6       7.6        7.6        7.1      7.9       7.8               R   \n",
       "\n",
       "     Country  \n",
       "0        USA  \n",
       "1        USA  \n",
       "2  Australia  \n",
       "3        USA  \n",
       "4        USA  \n",
       "\n",
       "[5 rows x 62 columns]"
      ]
     },
     "execution_count": 103,
     "metadata": {},
     "output_type": "execute_result"
    }
   ],
   "source": [
    "movie_df.head()"
   ]
  },
  {
   "cell_type": "code",
   "execution_count": 104,
   "metadata": {},
   "outputs": [
    {
     "name": "stdout",
     "output_type": "stream",
     "text": [
      "<class 'pandas.core.frame.DataFrame'>\n",
      "RangeIndex: 100 entries, 0 to 99\n",
      "Data columns (total 62 columns):\n",
      " #   Column                  Non-Null Count  Dtype  \n",
      "---  ------                  --------------  -----  \n",
      " 0   Title                   100 non-null    object \n",
      " 1   title_year              100 non-null    int64  \n",
      " 2   budget                  100 non-null    int64  \n",
      " 3   Gross                   100 non-null    int64  \n",
      " 4   actor_1_name            100 non-null    object \n",
      " 5   actor_2_name            100 non-null    object \n",
      " 6   actor_3_name            100 non-null    object \n",
      " 7   actor_1_facebook_likes  100 non-null    int64  \n",
      " 8   actor_2_facebook_likes  99 non-null     float64\n",
      " 9   actor_3_facebook_likes  98 non-null     float64\n",
      " 10  IMDb_rating             100 non-null    float64\n",
      " 11  genre_1                 100 non-null    object \n",
      " 12  genre_2                 97 non-null     object \n",
      " 13  genre_3                 74 non-null     object \n",
      " 14  MetaCritic              95 non-null     float64\n",
      " 15  Runtime                 100 non-null    int64  \n",
      " 16  CVotes10                100 non-null    int64  \n",
      " 17  CVotes09                100 non-null    int64  \n",
      " 18  CVotes08                100 non-null    int64  \n",
      " 19  CVotes07                100 non-null    int64  \n",
      " 20  CVotes06                100 non-null    int64  \n",
      " 21  CVotes05                100 non-null    int64  \n",
      " 22  CVotes04                100 non-null    int64  \n",
      " 23  CVotes03                100 non-null    int64  \n",
      " 24  CVotes02                100 non-null    int64  \n",
      " 25  CVotes01                100 non-null    int64  \n",
      " 26  CVotesMale              100 non-null    int64  \n",
      " 27  CVotesFemale            100 non-null    int64  \n",
      " 28  CVotesU18               100 non-null    int64  \n",
      " 29  CVotesU18M              100 non-null    int64  \n",
      " 30  CVotesU18F              100 non-null    int64  \n",
      " 31  CVotes1829              100 non-null    int64  \n",
      " 32  CVotes1829M             100 non-null    int64  \n",
      " 33  CVotes1829F             100 non-null    int64  \n",
      " 34  CVotes3044              100 non-null    int64  \n",
      " 35  CVotes3044M             100 non-null    int64  \n",
      " 36  CVotes3044F             100 non-null    int64  \n",
      " 37  CVotes45A               100 non-null    int64  \n",
      " 38  CVotes45AM              100 non-null    int64  \n",
      " 39  CVotes45AF              100 non-null    int64  \n",
      " 40  CVotes1000              100 non-null    int64  \n",
      " 41  CVotesUS                100 non-null    int64  \n",
      " 42  CVotesnUS               100 non-null    int64  \n",
      " 43  VotesM                  100 non-null    float64\n",
      " 44  VotesF                  100 non-null    float64\n",
      " 45  VotesU18                100 non-null    float64\n",
      " 46  VotesU18M               100 non-null    float64\n",
      " 47  VotesU18F               100 non-null    float64\n",
      " 48  Votes1829               100 non-null    float64\n",
      " 49  Votes1829M              100 non-null    float64\n",
      " 50  Votes1829F              100 non-null    float64\n",
      " 51  Votes3044               100 non-null    float64\n",
      " 52  Votes3044M              100 non-null    float64\n",
      " 53  Votes3044F              100 non-null    float64\n",
      " 54  Votes45A                100 non-null    float64\n",
      " 55  Votes45AM               100 non-null    float64\n",
      " 56  Votes45AF               100 non-null    float64\n",
      " 57  Votes1000               100 non-null    float64\n",
      " 58  VotesUS                 100 non-null    float64\n",
      " 59  VotesnUS                100 non-null    float64\n",
      " 60  content_rating          100 non-null    object \n",
      " 61  Country                 100 non-null    object \n",
      "dtypes: float64(21), int64(32), object(9)\n",
      "memory usage: 48.6+ KB\n"
     ]
    }
   ],
   "source": [
    "# Check the column-wise info of the dataframe\n",
    "movie_df.info()\n",
    "## using below indicates genere 3 has missing values"
   ]
  },
  {
   "cell_type": "code",
   "execution_count": 105,
   "metadata": {},
   "outputs": [
    {
     "data": {
      "text/html": [
       "<div>\n",
       "<style scoped>\n",
       "    .dataframe tbody tr th:only-of-type {\n",
       "        vertical-align: middle;\n",
       "    }\n",
       "\n",
       "    .dataframe tbody tr th {\n",
       "        vertical-align: top;\n",
       "    }\n",
       "\n",
       "    .dataframe thead th {\n",
       "        text-align: right;\n",
       "    }\n",
       "</style>\n",
       "<table border=\"1\" class=\"dataframe\">\n",
       "  <thead>\n",
       "    <tr style=\"text-align: right;\">\n",
       "      <th></th>\n",
       "      <th>title_year</th>\n",
       "      <th>budget</th>\n",
       "      <th>Gross</th>\n",
       "      <th>actor_1_facebook_likes</th>\n",
       "      <th>actor_2_facebook_likes</th>\n",
       "      <th>actor_3_facebook_likes</th>\n",
       "      <th>IMDb_rating</th>\n",
       "      <th>MetaCritic</th>\n",
       "      <th>Runtime</th>\n",
       "      <th>CVotes10</th>\n",
       "      <th>...</th>\n",
       "      <th>Votes1829F</th>\n",
       "      <th>Votes3044</th>\n",
       "      <th>Votes3044M</th>\n",
       "      <th>Votes3044F</th>\n",
       "      <th>Votes45A</th>\n",
       "      <th>Votes45AM</th>\n",
       "      <th>Votes45AF</th>\n",
       "      <th>Votes1000</th>\n",
       "      <th>VotesUS</th>\n",
       "      <th>VotesnUS</th>\n",
       "    </tr>\n",
       "  </thead>\n",
       "  <tbody>\n",
       "    <tr>\n",
       "      <th>count</th>\n",
       "      <td>100.000000</td>\n",
       "      <td>1.000000e+02</td>\n",
       "      <td>1.000000e+02</td>\n",
       "      <td>100.000000</td>\n",
       "      <td>99.000000</td>\n",
       "      <td>98.000000</td>\n",
       "      <td>100.000000</td>\n",
       "      <td>95.000000</td>\n",
       "      <td>100.000000</td>\n",
       "      <td>100.000000</td>\n",
       "      <td>...</td>\n",
       "      <td>100.000000</td>\n",
       "      <td>100.000000</td>\n",
       "      <td>100.000000</td>\n",
       "      <td>100.000000</td>\n",
       "      <td>100.00000</td>\n",
       "      <td>100.000000</td>\n",
       "      <td>100.000000</td>\n",
       "      <td>100.000000</td>\n",
       "      <td>100.000000</td>\n",
       "      <td>100.000000</td>\n",
       "    </tr>\n",
       "    <tr>\n",
       "      <th>mean</th>\n",
       "      <td>2012.820000</td>\n",
       "      <td>7.838400e+07</td>\n",
       "      <td>1.468679e+08</td>\n",
       "      <td>13407.270000</td>\n",
       "      <td>7377.303030</td>\n",
       "      <td>3002.153061</td>\n",
       "      <td>7.883000</td>\n",
       "      <td>78.252632</td>\n",
       "      <td>126.420000</td>\n",
       "      <td>73212.160000</td>\n",
       "      <td>...</td>\n",
       "      <td>7.982000</td>\n",
       "      <td>7.732000</td>\n",
       "      <td>7.723000</td>\n",
       "      <td>7.780000</td>\n",
       "      <td>7.65100</td>\n",
       "      <td>7.624000</td>\n",
       "      <td>7.770000</td>\n",
       "      <td>7.274000</td>\n",
       "      <td>7.958000</td>\n",
       "      <td>7.793000</td>\n",
       "    </tr>\n",
       "    <tr>\n",
       "      <th>std</th>\n",
       "      <td>1.919491</td>\n",
       "      <td>7.445295e+07</td>\n",
       "      <td>1.454004e+08</td>\n",
       "      <td>10649.037862</td>\n",
       "      <td>13471.568216</td>\n",
       "      <td>6940.301133</td>\n",
       "      <td>0.247433</td>\n",
       "      <td>9.122066</td>\n",
       "      <td>19.050799</td>\n",
       "      <td>82669.594746</td>\n",
       "      <td>...</td>\n",
       "      <td>0.321417</td>\n",
       "      <td>0.251814</td>\n",
       "      <td>0.260479</td>\n",
       "      <td>0.282128</td>\n",
       "      <td>0.21485</td>\n",
       "      <td>0.213258</td>\n",
       "      <td>0.301344</td>\n",
       "      <td>0.361987</td>\n",
       "      <td>0.232327</td>\n",
       "      <td>0.264099</td>\n",
       "    </tr>\n",
       "    <tr>\n",
       "      <th>min</th>\n",
       "      <td>2010.000000</td>\n",
       "      <td>3.000000e+06</td>\n",
       "      <td>2.238380e+05</td>\n",
       "      <td>39.000000</td>\n",
       "      <td>12.000000</td>\n",
       "      <td>0.000000</td>\n",
       "      <td>7.500000</td>\n",
       "      <td>62.000000</td>\n",
       "      <td>91.000000</td>\n",
       "      <td>6420.000000</td>\n",
       "      <td>...</td>\n",
       "      <td>7.300000</td>\n",
       "      <td>7.300000</td>\n",
       "      <td>7.200000</td>\n",
       "      <td>7.200000</td>\n",
       "      <td>7.10000</td>\n",
       "      <td>7.100000</td>\n",
       "      <td>7.000000</td>\n",
       "      <td>6.400000</td>\n",
       "      <td>7.500000</td>\n",
       "      <td>7.300000</td>\n",
       "    </tr>\n",
       "    <tr>\n",
       "      <th>25%</th>\n",
       "      <td>2011.000000</td>\n",
       "      <td>1.575000e+07</td>\n",
       "      <td>4.199752e+07</td>\n",
       "      <td>1000.000000</td>\n",
       "      <td>580.000000</td>\n",
       "      <td>319.750000</td>\n",
       "      <td>7.700000</td>\n",
       "      <td>72.000000</td>\n",
       "      <td>114.750000</td>\n",
       "      <td>30587.000000</td>\n",
       "      <td>...</td>\n",
       "      <td>7.700000</td>\n",
       "      <td>7.600000</td>\n",
       "      <td>7.500000</td>\n",
       "      <td>7.600000</td>\n",
       "      <td>7.50000</td>\n",
       "      <td>7.475000</td>\n",
       "      <td>7.500000</td>\n",
       "      <td>7.100000</td>\n",
       "      <td>7.800000</td>\n",
       "      <td>7.600000</td>\n",
       "    </tr>\n",
       "    <tr>\n",
       "      <th>50%</th>\n",
       "      <td>2013.000000</td>\n",
       "      <td>4.225000e+07</td>\n",
       "      <td>1.070266e+08</td>\n",
       "      <td>13000.000000</td>\n",
       "      <td>1000.000000</td>\n",
       "      <td>626.500000</td>\n",
       "      <td>7.800000</td>\n",
       "      <td>78.000000</td>\n",
       "      <td>124.000000</td>\n",
       "      <td>54900.500000</td>\n",
       "      <td>...</td>\n",
       "      <td>8.000000</td>\n",
       "      <td>7.700000</td>\n",
       "      <td>7.700000</td>\n",
       "      <td>7.800000</td>\n",
       "      <td>7.65000</td>\n",
       "      <td>7.600000</td>\n",
       "      <td>7.800000</td>\n",
       "      <td>7.300000</td>\n",
       "      <td>7.950000</td>\n",
       "      <td>7.750000</td>\n",
       "    </tr>\n",
       "    <tr>\n",
       "      <th>75%</th>\n",
       "      <td>2014.000000</td>\n",
       "      <td>1.500000e+08</td>\n",
       "      <td>2.107548e+08</td>\n",
       "      <td>20000.000000</td>\n",
       "      <td>11000.000000</td>\n",
       "      <td>1000.000000</td>\n",
       "      <td>8.100000</td>\n",
       "      <td>83.500000</td>\n",
       "      <td>136.250000</td>\n",
       "      <td>80639.000000</td>\n",
       "      <td>...</td>\n",
       "      <td>8.200000</td>\n",
       "      <td>7.900000</td>\n",
       "      <td>7.900000</td>\n",
       "      <td>8.000000</td>\n",
       "      <td>7.80000</td>\n",
       "      <td>7.800000</td>\n",
       "      <td>7.925000</td>\n",
       "      <td>7.500000</td>\n",
       "      <td>8.100000</td>\n",
       "      <td>7.925000</td>\n",
       "    </tr>\n",
       "    <tr>\n",
       "      <th>max</th>\n",
       "      <td>2016.000000</td>\n",
       "      <td>2.600000e+08</td>\n",
       "      <td>9.366622e+08</td>\n",
       "      <td>35000.000000</td>\n",
       "      <td>96000.000000</td>\n",
       "      <td>46000.000000</td>\n",
       "      <td>8.800000</td>\n",
       "      <td>100.000000</td>\n",
       "      <td>180.000000</td>\n",
       "      <td>584839.000000</td>\n",
       "      <td>...</td>\n",
       "      <td>8.800000</td>\n",
       "      <td>8.700000</td>\n",
       "      <td>8.700000</td>\n",
       "      <td>8.500000</td>\n",
       "      <td>8.10000</td>\n",
       "      <td>8.100000</td>\n",
       "      <td>8.500000</td>\n",
       "      <td>8.200000</td>\n",
       "      <td>8.700000</td>\n",
       "      <td>8.800000</td>\n",
       "    </tr>\n",
       "  </tbody>\n",
       "</table>\n",
       "<p>8 rows × 53 columns</p>\n",
       "</div>"
      ],
      "text/plain": [
       "        title_year        budget         Gross  actor_1_facebook_likes  \\\n",
       "count   100.000000  1.000000e+02  1.000000e+02              100.000000   \n",
       "mean   2012.820000  7.838400e+07  1.468679e+08            13407.270000   \n",
       "std       1.919491  7.445295e+07  1.454004e+08            10649.037862   \n",
       "min    2010.000000  3.000000e+06  2.238380e+05               39.000000   \n",
       "25%    2011.000000  1.575000e+07  4.199752e+07             1000.000000   \n",
       "50%    2013.000000  4.225000e+07  1.070266e+08            13000.000000   \n",
       "75%    2014.000000  1.500000e+08  2.107548e+08            20000.000000   \n",
       "max    2016.000000  2.600000e+08  9.366622e+08            35000.000000   \n",
       "\n",
       "       actor_2_facebook_likes  actor_3_facebook_likes  IMDb_rating  \\\n",
       "count               99.000000               98.000000   100.000000   \n",
       "mean              7377.303030             3002.153061     7.883000   \n",
       "std              13471.568216             6940.301133     0.247433   \n",
       "min                 12.000000                0.000000     7.500000   \n",
       "25%                580.000000              319.750000     7.700000   \n",
       "50%               1000.000000              626.500000     7.800000   \n",
       "75%              11000.000000             1000.000000     8.100000   \n",
       "max              96000.000000            46000.000000     8.800000   \n",
       "\n",
       "       MetaCritic     Runtime       CVotes10  ...  Votes1829F   Votes3044  \\\n",
       "count   95.000000  100.000000     100.000000  ...  100.000000  100.000000   \n",
       "mean    78.252632  126.420000   73212.160000  ...    7.982000    7.732000   \n",
       "std      9.122066   19.050799   82669.594746  ...    0.321417    0.251814   \n",
       "min     62.000000   91.000000    6420.000000  ...    7.300000    7.300000   \n",
       "25%     72.000000  114.750000   30587.000000  ...    7.700000    7.600000   \n",
       "50%     78.000000  124.000000   54900.500000  ...    8.000000    7.700000   \n",
       "75%     83.500000  136.250000   80639.000000  ...    8.200000    7.900000   \n",
       "max    100.000000  180.000000  584839.000000  ...    8.800000    8.700000   \n",
       "\n",
       "       Votes3044M  Votes3044F   Votes45A   Votes45AM   Votes45AF   Votes1000  \\\n",
       "count  100.000000  100.000000  100.00000  100.000000  100.000000  100.000000   \n",
       "mean     7.723000    7.780000    7.65100    7.624000    7.770000    7.274000   \n",
       "std      0.260479    0.282128    0.21485    0.213258    0.301344    0.361987   \n",
       "min      7.200000    7.200000    7.10000    7.100000    7.000000    6.400000   \n",
       "25%      7.500000    7.600000    7.50000    7.475000    7.500000    7.100000   \n",
       "50%      7.700000    7.800000    7.65000    7.600000    7.800000    7.300000   \n",
       "75%      7.900000    8.000000    7.80000    7.800000    7.925000    7.500000   \n",
       "max      8.700000    8.500000    8.10000    8.100000    8.500000    8.200000   \n",
       "\n",
       "          VotesUS    VotesnUS  \n",
       "count  100.000000  100.000000  \n",
       "mean     7.958000    7.793000  \n",
       "std      0.232327    0.264099  \n",
       "min      7.500000    7.300000  \n",
       "25%      7.800000    7.600000  \n",
       "50%      7.950000    7.750000  \n",
       "75%      8.100000    7.925000  \n",
       "max      8.700000    8.800000  \n",
       "\n",
       "[8 rows x 53 columns]"
      ]
     },
     "execution_count": 105,
     "metadata": {},
     "output_type": "execute_result"
    }
   ],
   "source": [
    "# Check the summary for the numeric columns \n",
    "\n",
    "movie_df.describe()"
   ]
  },
  {
   "cell_type": "markdown",
   "metadata": {},
   "source": [
    "## Task 2: Data Analysis\n",
    "\n",
    "Now that we have loaded the dataset and inspected it, we see that most of the data is in place. As of now, no data cleaning is required, so let's start with some data manipulation, analysis, and visualisation to get various insights about the data. "
   ]
  },
  {
   "cell_type": "markdown",
   "metadata": {},
   "source": [
    "-  ###  Subtask 2.1: Reduce those Digits!\n",
    "\n",
    "These numbers in the `budget` and `gross` are too big, compromising its readability. Let's convert the unit of the `budget` and `gross` columns from `$` to `million $` first."
   ]
  },
  {
   "cell_type": "code",
   "execution_count": 106,
   "metadata": {},
   "outputs": [],
   "source": [
    "# Divide the 'gross' and 'budget' columns by 1000000 to convert '$' to 'million $'\n",
    "movie_df[\"Gross\"] = movie_df[\"Gross\"].apply(lambda x: x/1000000)\n",
    "movie_df[\"budget\"] = movie_df[\"budget\"].apply(lambda x: x/1000000)\n",
    "\n"
   ]
  },
  {
   "cell_type": "code",
   "execution_count": 107,
   "metadata": {},
   "outputs": [
    {
     "data": {
      "text/html": [
       "<div>\n",
       "<style scoped>\n",
       "    .dataframe tbody tr th:only-of-type {\n",
       "        vertical-align: middle;\n",
       "    }\n",
       "\n",
       "    .dataframe tbody tr th {\n",
       "        vertical-align: top;\n",
       "    }\n",
       "\n",
       "    .dataframe thead th {\n",
       "        text-align: right;\n",
       "    }\n",
       "</style>\n",
       "<table border=\"1\" class=\"dataframe\">\n",
       "  <thead>\n",
       "    <tr style=\"text-align: right;\">\n",
       "      <th></th>\n",
       "      <th>Title</th>\n",
       "      <th>title_year</th>\n",
       "      <th>budget</th>\n",
       "      <th>Gross</th>\n",
       "      <th>actor_1_name</th>\n",
       "      <th>actor_2_name</th>\n",
       "      <th>actor_3_name</th>\n",
       "      <th>actor_1_facebook_likes</th>\n",
       "      <th>actor_2_facebook_likes</th>\n",
       "      <th>actor_3_facebook_likes</th>\n",
       "      <th>...</th>\n",
       "      <th>Votes3044M</th>\n",
       "      <th>Votes3044F</th>\n",
       "      <th>Votes45A</th>\n",
       "      <th>Votes45AM</th>\n",
       "      <th>Votes45AF</th>\n",
       "      <th>Votes1000</th>\n",
       "      <th>VotesUS</th>\n",
       "      <th>VotesnUS</th>\n",
       "      <th>content_rating</th>\n",
       "      <th>Country</th>\n",
       "    </tr>\n",
       "  </thead>\n",
       "  <tbody>\n",
       "    <tr>\n",
       "      <th>0</th>\n",
       "      <td>La La Land</td>\n",
       "      <td>2016</td>\n",
       "      <td>30.0</td>\n",
       "      <td>151.101803</td>\n",
       "      <td>Ryan Gosling</td>\n",
       "      <td>Emma Stone</td>\n",
       "      <td>Amiée Conn</td>\n",
       "      <td>14000</td>\n",
       "      <td>19000.0</td>\n",
       "      <td>NaN</td>\n",
       "      <td>...</td>\n",
       "      <td>7.9</td>\n",
       "      <td>7.8</td>\n",
       "      <td>7.6</td>\n",
       "      <td>7.6</td>\n",
       "      <td>7.5</td>\n",
       "      <td>7.1</td>\n",
       "      <td>8.3</td>\n",
       "      <td>8.1</td>\n",
       "      <td>PG-13</td>\n",
       "      <td>USA</td>\n",
       "    </tr>\n",
       "    <tr>\n",
       "      <th>1</th>\n",
       "      <td>Zootopia</td>\n",
       "      <td>2016</td>\n",
       "      <td>150.0</td>\n",
       "      <td>341.268248</td>\n",
       "      <td>Ginnifer Goodwin</td>\n",
       "      <td>Jason Bateman</td>\n",
       "      <td>Idris Elba</td>\n",
       "      <td>2800</td>\n",
       "      <td>28000.0</td>\n",
       "      <td>27000.0</td>\n",
       "      <td>...</td>\n",
       "      <td>7.8</td>\n",
       "      <td>8.1</td>\n",
       "      <td>7.8</td>\n",
       "      <td>7.8</td>\n",
       "      <td>8.1</td>\n",
       "      <td>7.6</td>\n",
       "      <td>8.0</td>\n",
       "      <td>8.0</td>\n",
       "      <td>PG</td>\n",
       "      <td>USA</td>\n",
       "    </tr>\n",
       "    <tr>\n",
       "      <th>2</th>\n",
       "      <td>Lion</td>\n",
       "      <td>2016</td>\n",
       "      <td>12.0</td>\n",
       "      <td>51.738905</td>\n",
       "      <td>Dev Patel</td>\n",
       "      <td>Nicole Kidman</td>\n",
       "      <td>Rooney Mara</td>\n",
       "      <td>33000</td>\n",
       "      <td>96000.0</td>\n",
       "      <td>9800.0</td>\n",
       "      <td>...</td>\n",
       "      <td>7.9</td>\n",
       "      <td>8.2</td>\n",
       "      <td>8.0</td>\n",
       "      <td>7.9</td>\n",
       "      <td>8.4</td>\n",
       "      <td>7.1</td>\n",
       "      <td>8.1</td>\n",
       "      <td>8.0</td>\n",
       "      <td>PG-13</td>\n",
       "      <td>Australia</td>\n",
       "    </tr>\n",
       "    <tr>\n",
       "      <th>3</th>\n",
       "      <td>Arrival</td>\n",
       "      <td>2016</td>\n",
       "      <td>47.0</td>\n",
       "      <td>100.546139</td>\n",
       "      <td>Amy Adams</td>\n",
       "      <td>Jeremy Renner</td>\n",
       "      <td>Forest Whitaker</td>\n",
       "      <td>35000</td>\n",
       "      <td>5300.0</td>\n",
       "      <td>NaN</td>\n",
       "      <td>...</td>\n",
       "      <td>7.8</td>\n",
       "      <td>7.8</td>\n",
       "      <td>7.6</td>\n",
       "      <td>7.6</td>\n",
       "      <td>7.7</td>\n",
       "      <td>7.3</td>\n",
       "      <td>8.0</td>\n",
       "      <td>7.9</td>\n",
       "      <td>PG-13</td>\n",
       "      <td>USA</td>\n",
       "    </tr>\n",
       "    <tr>\n",
       "      <th>4</th>\n",
       "      <td>Manchester by the Sea</td>\n",
       "      <td>2016</td>\n",
       "      <td>9.0</td>\n",
       "      <td>47.695371</td>\n",
       "      <td>Casey Affleck</td>\n",
       "      <td>Michelle Williams</td>\n",
       "      <td>Kyle Chandler</td>\n",
       "      <td>518</td>\n",
       "      <td>71000.0</td>\n",
       "      <td>3300.0</td>\n",
       "      <td>...</td>\n",
       "      <td>7.7</td>\n",
       "      <td>7.7</td>\n",
       "      <td>7.6</td>\n",
       "      <td>7.6</td>\n",
       "      <td>7.6</td>\n",
       "      <td>7.1</td>\n",
       "      <td>7.9</td>\n",
       "      <td>7.8</td>\n",
       "      <td>R</td>\n",
       "      <td>USA</td>\n",
       "    </tr>\n",
       "  </tbody>\n",
       "</table>\n",
       "<p>5 rows × 62 columns</p>\n",
       "</div>"
      ],
      "text/plain": [
       "                   Title  title_year  budget       Gross      actor_1_name  \\\n",
       "0             La La Land        2016    30.0  151.101803      Ryan Gosling   \n",
       "1               Zootopia        2016   150.0  341.268248  Ginnifer Goodwin   \n",
       "2                   Lion        2016    12.0   51.738905         Dev Patel   \n",
       "3                Arrival        2016    47.0  100.546139         Amy Adams   \n",
       "4  Manchester by the Sea        2016     9.0   47.695371     Casey Affleck   \n",
       "\n",
       "         actor_2_name     actor_3_name  actor_1_facebook_likes  \\\n",
       "0          Emma Stone       Amiée Conn                   14000   \n",
       "1       Jason Bateman       Idris Elba                    2800   \n",
       "2       Nicole Kidman      Rooney Mara                   33000   \n",
       "3       Jeremy Renner  Forest Whitaker                   35000   \n",
       "4  Michelle Williams     Kyle Chandler                     518   \n",
       "\n",
       "   actor_2_facebook_likes  actor_3_facebook_likes  ...  Votes3044M Votes3044F  \\\n",
       "0                 19000.0                     NaN  ...         7.9        7.8   \n",
       "1                 28000.0                 27000.0  ...         7.8        8.1   \n",
       "2                 96000.0                  9800.0  ...         7.9        8.2   \n",
       "3                  5300.0                     NaN  ...         7.8        7.8   \n",
       "4                 71000.0                  3300.0  ...         7.7        7.7   \n",
       "\n",
       "  Votes45A Votes45AM  Votes45AF  Votes1000  VotesUS  VotesnUS  content_rating  \\\n",
       "0      7.6       7.6        7.5        7.1      8.3       8.1           PG-13   \n",
       "1      7.8       7.8        8.1        7.6      8.0       8.0              PG   \n",
       "2      8.0       7.9        8.4        7.1      8.1       8.0           PG-13   \n",
       "3      7.6       7.6        7.7        7.3      8.0       7.9           PG-13   \n",
       "4      7.6       7.6        7.6        7.1      7.9       7.8               R   \n",
       "\n",
       "     Country  \n",
       "0        USA  \n",
       "1        USA  \n",
       "2  Australia  \n",
       "3        USA  \n",
       "4        USA  \n",
       "\n",
       "[5 rows x 62 columns]"
      ]
     },
     "execution_count": 107,
     "metadata": {},
     "output_type": "execute_result"
    }
   ],
   "source": [
    "movie_df.head()"
   ]
  },
  {
   "cell_type": "markdown",
   "metadata": {},
   "source": [
    "-  ###  Subtask 2.2: Let's Talk Profit!\n",
    "\n",
    "    1. Create a new column called `profit` which contains the difference of the two columns: `gross` and `budget`.\n",
    "    2. Sort the dataframe using the `profit` column as reference.\n",
    "    3. Extract the top ten profiting movies in descending order and store them in a new dataframe - `top10`.\n",
    "    4. Plot a scatter or a joint plot between the columns `budget` and `profit` and write a few words on what you observed.\n",
    "    5. Extract the movies with a negative profit and store them in a new dataframe - `neg_profit`"
   ]
  },
  {
   "cell_type": "code",
   "execution_count": 108,
   "metadata": {},
   "outputs": [
    {
     "data": {
      "text/html": [
       "<div>\n",
       "<style scoped>\n",
       "    .dataframe tbody tr th:only-of-type {\n",
       "        vertical-align: middle;\n",
       "    }\n",
       "\n",
       "    .dataframe tbody tr th {\n",
       "        vertical-align: top;\n",
       "    }\n",
       "\n",
       "    .dataframe thead th {\n",
       "        text-align: right;\n",
       "    }\n",
       "</style>\n",
       "<table border=\"1\" class=\"dataframe\">\n",
       "  <thead>\n",
       "    <tr style=\"text-align: right;\">\n",
       "      <th></th>\n",
       "      <th>Title</th>\n",
       "      <th>title_year</th>\n",
       "      <th>budget</th>\n",
       "      <th>Gross</th>\n",
       "      <th>actor_1_name</th>\n",
       "      <th>actor_2_name</th>\n",
       "      <th>actor_3_name</th>\n",
       "      <th>actor_1_facebook_likes</th>\n",
       "      <th>actor_2_facebook_likes</th>\n",
       "      <th>actor_3_facebook_likes</th>\n",
       "      <th>...</th>\n",
       "      <th>Votes3044F</th>\n",
       "      <th>Votes45A</th>\n",
       "      <th>Votes45AM</th>\n",
       "      <th>Votes45AF</th>\n",
       "      <th>Votes1000</th>\n",
       "      <th>VotesUS</th>\n",
       "      <th>VotesnUS</th>\n",
       "      <th>content_rating</th>\n",
       "      <th>Country</th>\n",
       "      <th>profit</th>\n",
       "    </tr>\n",
       "  </thead>\n",
       "  <tbody>\n",
       "    <tr>\n",
       "      <th>0</th>\n",
       "      <td>La La Land</td>\n",
       "      <td>2016</td>\n",
       "      <td>30.0</td>\n",
       "      <td>151.101803</td>\n",
       "      <td>Ryan Gosling</td>\n",
       "      <td>Emma Stone</td>\n",
       "      <td>Amiée Conn</td>\n",
       "      <td>14000</td>\n",
       "      <td>19000.0</td>\n",
       "      <td>NaN</td>\n",
       "      <td>...</td>\n",
       "      <td>7.8</td>\n",
       "      <td>7.6</td>\n",
       "      <td>7.6</td>\n",
       "      <td>7.5</td>\n",
       "      <td>7.1</td>\n",
       "      <td>8.3</td>\n",
       "      <td>8.1</td>\n",
       "      <td>PG-13</td>\n",
       "      <td>USA</td>\n",
       "      <td>121.101803</td>\n",
       "    </tr>\n",
       "    <tr>\n",
       "      <th>1</th>\n",
       "      <td>Zootopia</td>\n",
       "      <td>2016</td>\n",
       "      <td>150.0</td>\n",
       "      <td>341.268248</td>\n",
       "      <td>Ginnifer Goodwin</td>\n",
       "      <td>Jason Bateman</td>\n",
       "      <td>Idris Elba</td>\n",
       "      <td>2800</td>\n",
       "      <td>28000.0</td>\n",
       "      <td>27000.0</td>\n",
       "      <td>...</td>\n",
       "      <td>8.1</td>\n",
       "      <td>7.8</td>\n",
       "      <td>7.8</td>\n",
       "      <td>8.1</td>\n",
       "      <td>7.6</td>\n",
       "      <td>8.0</td>\n",
       "      <td>8.0</td>\n",
       "      <td>PG</td>\n",
       "      <td>USA</td>\n",
       "      <td>191.268248</td>\n",
       "    </tr>\n",
       "    <tr>\n",
       "      <th>2</th>\n",
       "      <td>Lion</td>\n",
       "      <td>2016</td>\n",
       "      <td>12.0</td>\n",
       "      <td>51.738905</td>\n",
       "      <td>Dev Patel</td>\n",
       "      <td>Nicole Kidman</td>\n",
       "      <td>Rooney Mara</td>\n",
       "      <td>33000</td>\n",
       "      <td>96000.0</td>\n",
       "      <td>9800.0</td>\n",
       "      <td>...</td>\n",
       "      <td>8.2</td>\n",
       "      <td>8.0</td>\n",
       "      <td>7.9</td>\n",
       "      <td>8.4</td>\n",
       "      <td>7.1</td>\n",
       "      <td>8.1</td>\n",
       "      <td>8.0</td>\n",
       "      <td>PG-13</td>\n",
       "      <td>Australia</td>\n",
       "      <td>39.738905</td>\n",
       "    </tr>\n",
       "    <tr>\n",
       "      <th>3</th>\n",
       "      <td>Arrival</td>\n",
       "      <td>2016</td>\n",
       "      <td>47.0</td>\n",
       "      <td>100.546139</td>\n",
       "      <td>Amy Adams</td>\n",
       "      <td>Jeremy Renner</td>\n",
       "      <td>Forest Whitaker</td>\n",
       "      <td>35000</td>\n",
       "      <td>5300.0</td>\n",
       "      <td>NaN</td>\n",
       "      <td>...</td>\n",
       "      <td>7.8</td>\n",
       "      <td>7.6</td>\n",
       "      <td>7.6</td>\n",
       "      <td>7.7</td>\n",
       "      <td>7.3</td>\n",
       "      <td>8.0</td>\n",
       "      <td>7.9</td>\n",
       "      <td>PG-13</td>\n",
       "      <td>USA</td>\n",
       "      <td>53.546139</td>\n",
       "    </tr>\n",
       "    <tr>\n",
       "      <th>4</th>\n",
       "      <td>Manchester by the Sea</td>\n",
       "      <td>2016</td>\n",
       "      <td>9.0</td>\n",
       "      <td>47.695371</td>\n",
       "      <td>Casey Affleck</td>\n",
       "      <td>Michelle Williams</td>\n",
       "      <td>Kyle Chandler</td>\n",
       "      <td>518</td>\n",
       "      <td>71000.0</td>\n",
       "      <td>3300.0</td>\n",
       "      <td>...</td>\n",
       "      <td>7.7</td>\n",
       "      <td>7.6</td>\n",
       "      <td>7.6</td>\n",
       "      <td>7.6</td>\n",
       "      <td>7.1</td>\n",
       "      <td>7.9</td>\n",
       "      <td>7.8</td>\n",
       "      <td>R</td>\n",
       "      <td>USA</td>\n",
       "      <td>38.695371</td>\n",
       "    </tr>\n",
       "  </tbody>\n",
       "</table>\n",
       "<p>5 rows × 63 columns</p>\n",
       "</div>"
      ],
      "text/plain": [
       "                   Title  title_year  budget       Gross      actor_1_name  \\\n",
       "0             La La Land        2016    30.0  151.101803      Ryan Gosling   \n",
       "1               Zootopia        2016   150.0  341.268248  Ginnifer Goodwin   \n",
       "2                   Lion        2016    12.0   51.738905         Dev Patel   \n",
       "3                Arrival        2016    47.0  100.546139         Amy Adams   \n",
       "4  Manchester by the Sea        2016     9.0   47.695371     Casey Affleck   \n",
       "\n",
       "         actor_2_name     actor_3_name  actor_1_facebook_likes  \\\n",
       "0          Emma Stone       Amiée Conn                   14000   \n",
       "1       Jason Bateman       Idris Elba                    2800   \n",
       "2       Nicole Kidman      Rooney Mara                   33000   \n",
       "3       Jeremy Renner  Forest Whitaker                   35000   \n",
       "4  Michelle Williams     Kyle Chandler                     518   \n",
       "\n",
       "   actor_2_facebook_likes  actor_3_facebook_likes  ...  Votes3044F Votes45A  \\\n",
       "0                 19000.0                     NaN  ...         7.8      7.6   \n",
       "1                 28000.0                 27000.0  ...         8.1      7.8   \n",
       "2                 96000.0                  9800.0  ...         8.2      8.0   \n",
       "3                  5300.0                     NaN  ...         7.8      7.6   \n",
       "4                 71000.0                  3300.0  ...         7.7      7.6   \n",
       "\n",
       "  Votes45AM Votes45AF  Votes1000  VotesUS  VotesnUS  content_rating  \\\n",
       "0       7.6       7.5        7.1      8.3       8.1           PG-13   \n",
       "1       7.8       8.1        7.6      8.0       8.0              PG   \n",
       "2       7.9       8.4        7.1      8.1       8.0           PG-13   \n",
       "3       7.6       7.7        7.3      8.0       7.9           PG-13   \n",
       "4       7.6       7.6        7.1      7.9       7.8               R   \n",
       "\n",
       "     Country      profit  \n",
       "0        USA  121.101803  \n",
       "1        USA  191.268248  \n",
       "2  Australia   39.738905  \n",
       "3        USA   53.546139  \n",
       "4        USA   38.695371  \n",
       "\n",
       "[5 rows x 63 columns]"
      ]
     },
     "execution_count": 108,
     "metadata": {},
     "output_type": "execute_result"
    }
   ],
   "source": [
    "# Create the new column named 'profit' by subtracting the 'budget' column from the 'gross' column\n",
    "movie_df[\"profit\"] = movie_df[\"Gross\"] - movie_df[\"budget\"]\n",
    "movie_df.head()\n"
   ]
  },
  {
   "cell_type": "code",
   "execution_count": 109,
   "metadata": {},
   "outputs": [],
   "source": [
    "# Sort the dataframe with the 'profit' column as reference using the 'sort_values' function. Make sure to set the argument\n",
    "#'ascending' to 'False'\n",
    "\n",
    "movie_df = movie_df.sort_values(by=\"profit\",ascending=False).reset_index(drop=True)\n"
   ]
  },
  {
   "cell_type": "code",
   "execution_count": 110,
   "metadata": {},
   "outputs": [],
   "source": [
    "# Get the top 10 profitable movies by using position based indexing. Specify the rows till 10 (0-9)\n",
    "\n",
    "top10 = movie_df.iloc[:10]"
   ]
  },
  {
   "cell_type": "markdown",
   "metadata": {},
   "source": [
    "# Plot profit vs budget:\n",
    "\n"
   ]
  },
  {
   "cell_type": "code",
   "execution_count": 111,
   "metadata": {},
   "outputs": [
    {
     "data": {
      "text/plain": [
       "<AxesSubplot:xlabel='budget', ylabel='profit'>"
      ]
     },
     "execution_count": 111,
     "metadata": {},
     "output_type": "execute_result"
    },
    {
     "data": {
      "image/png": "[encoded data removed]",
      "text/plain": [
       "<Figure size 432x288 with 1 Axes>"
      ]
     },
     "metadata": {
      "needs_background": "light"
     },
     "output_type": "display_data"
    }
   ],
   "source": [
    "sns.scatterplot(data=top10,x=\"budget\",y=\"profit\")"
   ]
  },
  {
   "cell_type": "markdown",
   "metadata": {},
   "source": [
    "## Insight-1 :  when the budget is in between 50 to 125 million dollars,we can see the points are distributed to max 300 million dollars.\n",
    "\n",
    "## Insight-2 : but when the budget increasing profit has been decreased upto 200 million dollars but again after that profit has been increased.\n",
    "\n",
    "## Insight-3 : From this scatterplot ,we can say that when movie budget less than 150 million dollars or budget should be greater than 200 million dollars ,we can expect profits will be in double ratio.\n",
    "\n"
   ]
  },
  {
   "cell_type": "markdown",
   "metadata": {},
   "source": [
    "## Joint plot:"
   ]
  },
  {
   "cell_type": "code",
   "execution_count": 118,
   "metadata": {},
   "outputs": [
    {
     "data": {
      "text/plain": [
       "<Figure size 720x576 with 0 Axes>"
      ]
     },
     "metadata": {},
     "output_type": "display_data"
    },
    {
     "data": {
      "image/png": "[encoded data removed]",
      "text/plain": [
       "<Figure size 432x432 with 3 Axes>"
      ]
     },
     "metadata": {
      "needs_background": "light"
     },
     "output_type": "display_data"
    }
   ],
   "source": [
    "plt.figure(figsize=(10,8))\n",
    "graph_plot = sns.jointplot(x=top10[\"budget\"],y=top10[\"profit\"],kind='reg')\n",
    "\n",
    "r, p = stats.pearsonr(top10[\"budget\"], top10[\"profit\"])\n",
    "\n",
    "phantom, = graph_plot.ax_joint.plot([], [], linestyle=\"\", alpha=0)\n",
    "# here graph is not a ax but a joint grid, so we access the axis through ax_joint method\n",
    "\n",
    "graph_plot.ax_joint.legend([phantom],['r={:f}, p={:f}'.format(r,p)])\n",
    "plt.show()\n",
    "\n"
   ]
  },
  {
   "cell_type": "markdown",
   "metadata": {},
   "source": [
    "## Insight-4 :From the above plot,we can conclude that budget and profit has positively correlated and pearson correlation indicated 0.215 and it shows linear relationship as well."
   ]
  },
  {
   "cell_type": "markdown",
   "metadata": {},
   "source": [
    "The dataset contains the 100 best performing movies from the year 2010 to 2016. However, the scatter plot tells a different story. You can notice that there are some movies with negative profit. Although good movies do incur losses, but there appear to be quite a few movie with losses. What can be the reason behind this? Lets have a closer look at this by finding the movies with negative profit."
   ]
  },
  {
   "cell_type": "code",
   "execution_count": null,
   "metadata": {},
   "outputs": [],
   "source": [
    "#Find the movies with negative profit\n",
    "\n"
   ]
  },
  {
   "cell_type": "markdown",
   "metadata": {},
   "source": [
    "**`Checkpoint 1:`** Can you spot the movie `Tangled` in the dataset? You may be aware of the movie 'Tangled'. Although its one of the highest grossing movies of all time, it has negative profit as per this result. If you cross check the gross values of this movie (link: https://www.imdb.com/title/tt0398286/), you can see that the gross in the dataset accounts only for the domestic gross and not the worldwide gross. This is true for may other movies also in the list."
   ]
  },
  {
   "cell_type": "markdown",
   "metadata": {},
   "source": [
    "- ### Subtask 2.3: The General Audience and the Critics\n",
    "\n",
    "You might have noticed the column `MetaCritic` in this dataset. This is a very popular website where an average score is determined through the scores given by the top-rated critics. Second, you also have another column `IMDb_rating` which tells you the IMDb rating of a movie. This rating is determined by taking the average of hundred-thousands of ratings from the general audience. \n",
    "\n",
    "As a part of this subtask, you are required to find out the highest rated movies which have been liked by critics and audiences alike.\n",
    "1. Firstly you will notice that the `MetaCritic` score is on a scale of `100` whereas the `IMDb_rating` is on a scale of 10. First convert the `MetaCritic` column to a scale of 10.\n",
    "2. Now, to find out the movies which have been liked by both critics and audiences alike and also have a high rating overall, you need to -\n",
    "    - Create a new column `Avg_rating` which will have the average of the `MetaCritic` and `Rating` columns\n",
    "    - Retain only the movies in which the absolute difference(using abs() function) between the `IMDb_rating` and `Metacritic` columns is less than 0.5. Refer to this link to know how abs() funtion works - https://www.geeksforgeeks.org/abs-in-python/ .\n",
    "    - Sort these values in a descending order of `Avg_rating` and retain only the movies with a rating equal to or greater than `8` and store these movies in a new dataframe `UniversalAcclaim`.\n",
    "    "
   ]
  },
  {
   "cell_type": "code",
   "execution_count": null,
   "metadata": {},
   "outputs": [],
   "source": [
    "# Change the scale of MetaCritic\n",
    "\n"
   ]
  },
  {
   "cell_type": "code",
   "execution_count": null,
   "metadata": {},
   "outputs": [],
   "source": [
    "# Find the average ratings\n",
    "\n"
   ]
  },
  {
   "cell_type": "code",
   "execution_count": null,
   "metadata": {},
   "outputs": [],
   "source": [
    "#Sort in descending order of average rating\n",
    "\n"
   ]
  },
  {
   "cell_type": "code",
   "execution_count": 1,
   "metadata": {},
   "outputs": [],
   "source": [
    "# Find the movies with metacritic-Imdb rating < 0.5 and also with an average rating of >= 8 (sorted in descending order)\n",
    "\n",
    "\n"
   ]
  },
  {
   "cell_type": "markdown",
   "metadata": {},
   "source": [
    "**`Checkpoint 2:`** Can you spot a `Star Wars` movie in your final dataset?"
   ]
  },
  {
   "cell_type": "markdown",
   "metadata": {},
   "source": [
    "- ### Subtask 2.4: Find the Most Popular Trios - I\n",
    "\n",
    "You're a producer looking to make a blockbuster movie. There will primarily be three lead roles in your movie and you wish to cast the most popular actors for it. Now, since you don't want to take a risk, you will cast a trio which has already acted in together in a movie before. The metric that you've chosen to check the popularity is the Facebook likes of each of these actors.\n",
    "\n",
    "The dataframe has three columns to help you out for the same, viz. `actor_1_facebook_likes`, `actor_2_facebook_likes`, and `actor_3_facebook_likes`. Your objective is to find the trios which has the most number of Facebook likes combined. That is, the sum of `actor_1_facebook_likes`, `actor_2_facebook_likes` and `actor_3_facebook_likes` should be maximum.\n",
    "Find out the top 5 popular trios, and output their names in a list.\n"
   ]
  },
  {
   "cell_type": "code",
   "execution_count": null,
   "metadata": {},
   "outputs": [],
   "source": [
    "# Write your code here\n",
    "\n"
   ]
  },
  {
   "cell_type": "markdown",
   "metadata": {},
   "source": [
    "- ### Subtask 2.5: Find the Most Popular Trios - II\n",
    "\n",
    "In the previous subtask you found the popular trio based on the total number of facebook likes. Let's add a small condition to it and make sure that all three actors are popular. The condition is **none of the three actors' Facebook likes should be less than half of the other two**. For example, the following is a valid combo:\n",
    "- actor_1_facebook_likes: 70000\n",
    "- actor_2_facebook_likes: 40000\n",
    "- actor_3_facebook_likes: 50000\n",
    "\n",
    "But the below one is not:\n",
    "- actor_1_facebook_likes: 70000\n",
    "- actor_2_facebook_likes: 40000\n",
    "- actor_3_facebook_likes: 30000\n",
    "\n",
    "since in this case, `actor_3_facebook_likes` is 30000, which is less than half of `actor_1_facebook_likes`.\n",
    "\n",
    "Having this condition ensures that you aren't getting any unpopular actor in your trio (since the total likes calculated in the previous question doesn't tell anything about the individual popularities of each actor in the trio.).\n",
    "\n",
    "You can do a manual inspection of the top 5 popular trios you have found in the previous subtask and check how many of those trios satisfy this condition. Also, which is the most popular trio after applying the condition above? Write your answers in the markdown cell provided below."
   ]
  },
  {
   "cell_type": "markdown",
   "metadata": {},
   "source": [
    "**Write your answers below.**\n",
    "\n",
    "- **`No. of trios that satisfy the above condition:`** (your answer here)\n",
    "\n",
    "- **`Most popular trio after applying the condition:`** (your answer here)"
   ]
  },
  {
   "cell_type": "markdown",
   "metadata": {},
   "source": [
    "**`Optional:`** Even though you are finding this out by a natural inspection of the dataframe, can you also achieve this through some *if-else* statements to incorporate this. You can try this out on your own time after you are done with the assignment."
   ]
  },
  {
   "cell_type": "code",
   "execution_count": null,
   "metadata": {},
   "outputs": [],
   "source": [
    "# Your answer here (optional and not graded)\n",
    "\n"
   ]
  },
  {
   "cell_type": "markdown",
   "metadata": {},
   "source": [
    "- ### Subtask 2.6: Runtime Analysis\n",
    "\n",
    "There is a column named `Runtime` in the dataframe which primarily shows the length of the movie. It might be intersting to see how this variable this distributed. Plot a `histogram` or `distplot` of seaborn to find the `Runtime` range most of the movies fall into."
   ]
  },
  {
   "cell_type": "code",
   "execution_count": 1,
   "metadata": {},
   "outputs": [],
   "source": [
    "# Runtime histogram/density plot\n"
   ]
  },
  {
   "cell_type": "markdown",
   "metadata": {},
   "source": [
    "**`Checkpoint 3:`** Most of the movies appear to be sharply 2 hour-long."
   ]
  },
  {
   "cell_type": "markdown",
   "metadata": {},
   "source": [
    "- ### Subtask 2.7: R-Rated Movies\n",
    "\n",
    "Although R rated movies are restricted movies for the under 18 age group, still there are vote counts from that age group. Among all the R rated movies that have been voted by the under-18 age group, find the top 10 movies that have the highest number of votes i.e.`CVotesU18` from the `movies` dataframe. Store these in a dataframe named `PopularR`."
   ]
  },
  {
   "cell_type": "code",
   "execution_count": null,
   "metadata": {},
   "outputs": [],
   "source": [
    "# Write your code here\n",
    "\n"
   ]
  },
  {
   "cell_type": "markdown",
   "metadata": {},
   "source": [
    "**`Checkpoint 4:`** Are these kids watching `Deadpool` a lot?"
   ]
  },
  {
   "cell_type": "markdown",
   "metadata": {},
   "source": [
    " "
   ]
  },
  {
   "cell_type": "markdown",
   "metadata": {},
   "source": [
    "## Task 3 : Demographic analysis\n",
    "\n",
    "If you take a look at the last columns in the dataframe, most of these are related to demographics of the voters (in the last subtask, i.e., 2.8, you made use one of these columns - CVotesU18). We also have three genre columns indicating the genres of a particular movie. We will extensively use these columns for the third and the final stage of our assignment wherein we will analyse the voters across all demographics and also see how these vary across various genres. So without further ado, let's get started with `demographic analysis`."
   ]
  },
  {
   "cell_type": "markdown",
   "metadata": {},
   "source": [
    "-  ###  Subtask 3.1 Combine the Dataframe by Genres\n",
    "\n",
    "There are 3 columns in the dataframe - `genre_1`, `genre_2`, and `genre_3`. As a part of this subtask, you need to aggregate a few values over these 3 columns. \n",
    "1. First create a new dataframe `df_by_genre` that contains `genre_1`, `genre_2`, and `genre_3` and all the columns related to **CVotes/Votes** from the `movies` data frame. There are 47 columns to be extracted in total.\n",
    "2. Now, Add a column called `cnt` to the dataframe `df_by_genre` and initialize it to one. You will realise the use of this column by the end of this subtask.\n",
    "3. First group the dataframe `df_by_genre` by `genre_1` and find the sum of all the numeric columns such as `cnt`, columns related to CVotes and Votes columns and store it in a dataframe `df_by_g1`.\n",
    "4. Perform the same operation for `genre_2` and `genre_3` and store it dataframes `df_by_g2` and `df_by_g3` respectively. \n",
    "5. Now that you have 3 dataframes performed by grouping over `genre_1`, `genre_2`, and `genre_3` separately, it's time to combine them. For this, add the three dataframes and store it in a new dataframe `df_add`, so that the corresponding values of Votes/CVotes get added for each genre.There is a function called `add()` in pandas which lets you do this. You can refer to this link to see how this function works. https://pandas.pydata.org/pandas-docs/version/0.23.4/generated/pandas.DataFrame.add.html\n",
    "6. The column `cnt` on aggregation has basically kept the track of the number of occurences of each genre.Subset the genres that have atleast 10 movies into a new dataframe `genre_top10` based on the `cnt` column value.\n",
    "7. Now, take the mean of all the numeric columns by dividing them with the column value `cnt` and store it back to the same dataframe. We will be using this dataframe for further analysis in this task unless it is explicitly mentioned to use the dataframe `movies`.\n",
    "8. Since the number of votes can't be a fraction, type cast all the CVotes related columns to integers. Also, round off all the Votes related columns upto two digits after the decimal point.\n"
   ]
  },
  {
   "cell_type": "code",
   "execution_count": null,
   "metadata": {},
   "outputs": [],
   "source": [
    "# Create the dataframe df_by_genre\n",
    "\n"
   ]
  },
  {
   "cell_type": "code",
   "execution_count": null,
   "metadata": {},
   "outputs": [],
   "source": [
    "# Create a column cnt and initialize it to 1\n",
    "\n"
   ]
  },
  {
   "cell_type": "code",
   "execution_count": null,
   "metadata": {},
   "outputs": [],
   "source": [
    "# Group the movies by individual genres\n",
    "\n"
   ]
  },
  {
   "cell_type": "code",
   "execution_count": null,
   "metadata": {},
   "outputs": [],
   "source": [
    "# Add the grouped data frames and store it in a new data frame\n",
    "\n"
   ]
  },
  {
   "cell_type": "code",
   "execution_count": null,
   "metadata": {},
   "outputs": [],
   "source": [
    "# Extract genres with atleast 10 occurences\n",
    "\n"
   ]
  },
  {
   "cell_type": "code",
   "execution_count": null,
   "metadata": {},
   "outputs": [],
   "source": [
    "# Take the mean for every column by dividing with cnt \n",
    "\n"
   ]
  },
  {
   "cell_type": "code",
   "execution_count": null,
   "metadata": {},
   "outputs": [],
   "source": [
    "# Rounding off the columns of Votes to two decimals\n",
    "\n"
   ]
  },
  {
   "cell_type": "code",
   "execution_count": null,
   "metadata": {},
   "outputs": [],
   "source": [
    "# Converting CVotes to int type\n",
    "\n"
   ]
  },
  {
   "cell_type": "markdown",
   "metadata": {},
   "source": [
    "If you take a look at the final dataframe that you have gotten, you will see that you now have the complete information about all the demographic (Votes- and CVotes-related) columns across the top 10 genres. We can use this dataset to extract exciting insights about the voters!"
   ]
  },
  {
   "cell_type": "markdown",
   "metadata": {},
   "source": [
    "-  ###  Subtask 3.2: Genre Counts!\n",
    "\n",
    "Now let's derive some insights from this data frame. Make a bar chart plotting different genres vs cnt using seaborn."
   ]
  },
  {
   "cell_type": "code",
   "execution_count": null,
   "metadata": {},
   "outputs": [],
   "source": [
    "# Countplot for genres\n",
    "\n"
   ]
  },
  {
   "cell_type": "markdown",
   "metadata": {},
   "source": [
    "**`Checkpoint 5:`** Is the bar for `Drama` the tallest?"
   ]
  },
  {
   "cell_type": "markdown",
   "metadata": {},
   "source": [
    "-  ###  Subtask 3.3: Gender and Genre\n",
    "\n",
    "If you have closely looked at the Votes- and CVotes-related columns, you might have noticed the suffixes `F` and `M` indicating Female and Male. Since we have the vote counts for both males and females, across various age groups, let's now see how the popularity of genres vary between the two genders in the dataframe. \n",
    "\n",
    "1. Make the first heatmap to see how the average number of votes of males is varying across the genres. Use seaborn heatmap for this analysis. The X-axis should contain the four age-groups for males, i.e., `CVotesU18M`,`CVotes1829M`, `CVotes3044M`, and `CVotes45AM`. The Y-axis will have the genres and the annotation in the heatmap tell the average number of votes for that age-male group. \n",
    "\n",
    "2. Make the second heatmap to see how the average number of votes of females is varying across the genres. Use seaborn heatmap for this analysis. The X-axis should contain the four age-groups for females, i.e., `CVotesU18F`,`CVotes1829F`, `CVotes3044F`, and `CVotes45AF`. The Y-axis will have the genres and the annotation in the heatmap tell the average number of votes for that age-female group. \n",
    "\n",
    "3. Make sure that you plot these heatmaps side by side using `subplots` so that you can easily compare the two genders and derive insights.\n",
    "\n",
    "4. Write your any three inferences from this plot. You can make use of the previous bar plot also here for better insights.\n",
    "Refer to this link- https://seaborn.pydata.org/generated/seaborn.heatmap.html. You might have to plot something similar to the fifth chart in this page (You have to plot two such heatmaps side by side).\n",
    "\n",
    "5. Repeat subtasks 1 to 4, but now instead of taking the CVotes-related columns, you need to do the same process for the Votes-related columns. These heatmaps will show you how the two genders have rated movies across various genres.\n",
    "\n",
    "You might need the below link for formatting your heatmap.\n",
    "https://stackoverflow.com/questions/56942670/matplotlib-seaborn-first-and-last-row-cut-in-half-of-heatmap-plot\n",
    "\n",
    "-  Note : Use `genre_top10` dataframe for this subtask"
   ]
  },
  {
   "cell_type": "code",
   "execution_count": 2,
   "metadata": {},
   "outputs": [],
   "source": [
    "# 1st set of heat maps for CVotes-related columns\n",
    "\n"
   ]
  },
  {
   "cell_type": "markdown",
   "metadata": {},
   "source": [
    "**`Inferences:`** A few inferences that can be seen from the heatmap above is that males have voted more than females, and Sci-Fi appears to be most popular among the 18-29 age group irrespective of their gender. What more can you infer from the two heatmaps that you have plotted? Write your three inferences/observations below:\n",
    "- Inference 1:\n",
    "- Inference 2:\n",
    "- Inference 3:"
   ]
  },
  {
   "cell_type": "code",
   "execution_count": null,
   "metadata": {},
   "outputs": [],
   "source": [
    "# 2nd set of heat maps for Votes-related columns\n",
    "\n"
   ]
  },
  {
   "cell_type": "markdown",
   "metadata": {},
   "source": [
    "**`Inferences:`** Sci-Fi appears to be the highest rated genre in the age group of U18 for both males and females. Also, females in this age group have rated it a bit higher than the males in the same age group. What more can you infer from the two heatmaps that you have plotted? Write your three inferences/observations below:\n",
    "- Inference 1:\n",
    "- Inference 2:\n",
    "- Inference 3:"
   ]
  },
  {
   "cell_type": "markdown",
   "metadata": {},
   "source": [
    "-  ###  Subtask 3.4: US vs non-US Cross Analysis\n",
    "\n",
    "The dataset contains both the US and non-US movies. Let's analyse how both the US and the non-US voters have responded to the US and the non-US movies.\n",
    "\n",
    "1. Create a column `IFUS` in the dataframe `movies`. The column `IFUS` should contain the value \"USA\" if the `Country` of the movie is \"USA\". For all other countries other than the USA, `IFUS` should contain the value `non-USA`.\n",
    "\n",
    "\n",
    "2. Now make a boxplot that shows how the number of votes from the US people i.e. `CVotesUS` is varying for the US and non-US movies. Make use of the column `IFUS` to make this plot. Similarly, make another subplot that shows how non US voters have voted for the US and non-US movies by plotting `CVotesnUS` for both the US and non-US movies. Write any of your two inferences/observations from these plots.\n",
    "\n",
    "\n",
    "3. Again do a similar analysis but with the ratings. Make a boxplot that shows how the ratings from the US people i.e. `VotesUS` is varying for the US and non-US movies. Similarly, make another subplot that shows how `VotesnUS` is varying for the US and non-US movies. Write any of your two inferences/observations from these plots.\n",
    "\n",
    "Note : Use `movies` dataframe for this subtask. Make use of this documention to format your boxplot - https://seaborn.pydata.org/generated/seaborn.boxplot.html"
   ]
  },
  {
   "cell_type": "code",
   "execution_count": null,
   "metadata": {},
   "outputs": [],
   "source": [
    "# Creating IFUS column\n",
    "\n"
   ]
  },
  {
   "cell_type": "code",
   "execution_count": null,
   "metadata": {},
   "outputs": [],
   "source": [
    "# Box plot - 1: CVotesUS(y) vs IFUS(x)\n",
    "\n"
   ]
  },
  {
   "cell_type": "markdown",
   "metadata": {},
   "source": [
    "**`Inferences:`** Write your two inferences/observations below:\n",
    "- Inference 1:\n",
    "- Inference 2:"
   ]
  },
  {
   "cell_type": "code",
   "execution_count": null,
   "metadata": {},
   "outputs": [],
   "source": [
    "# Box plot - 2: VotesUS(y) vs IFUS(x)\n",
    "\n"
   ]
  },
  {
   "cell_type": "markdown",
   "metadata": {},
   "source": [
    "**`Inferences:`** Write your two inferences/observations below:\n",
    "- Inference 1:\n",
    "- Inference 2:"
   ]
  },
  {
   "cell_type": "markdown",
   "metadata": {},
   "source": [
    "-  ###  Subtask 3.5:  Top 1000 Voters Vs Genres\n",
    "\n",
    "You might have also observed the column `CVotes1000`. This column represents the top 1000 voters on IMDb and gives the count for the number of these voters who have voted for a particular movie. Let's see how these top 1000 voters have voted across the genres. \n",
    "\n",
    "1. Sort the dataframe genre_top10 based on the value of `CVotes1000`in a descending order.\n",
    "\n",
    "2. Make a seaborn barplot for `genre` vs `CVotes1000`.\n",
    "\n",
    "3. Write your inferences. You can also try to relate it with the heatmaps you did in the previous subtasks.\n",
    "\n",
    "\n"
   ]
  },
  {
   "cell_type": "code",
   "execution_count": null,
   "metadata": {},
   "outputs": [],
   "source": [
    "# Sorting by CVotes1000\n",
    "\n"
   ]
  },
  {
   "cell_type": "code",
   "execution_count": null,
   "metadata": {},
   "outputs": [],
   "source": [
    "# Bar plot\n"
   ]
  },
  {
   "cell_type": "markdown",
   "metadata": {},
   "source": [
    "**`Inferences:`** Write your inferences/observations here."
   ]
  },
  {
   "cell_type": "markdown",
   "metadata": {},
   "source": [
    "**`Checkpoint 6:`** The genre `Romance` seems to be most unpopular among the top 1000 voters."
   ]
  },
  {
   "cell_type": "markdown",
   "metadata": {},
   "source": [
    "\n",
    "\n"
   ]
  },
  {
   "cell_type": "markdown",
   "metadata": {},
   "source": [
    "With the above subtask, your assignment is over. In your free time, do explore the dataset further on your own and see what kind of other insights you can get across various other columns."
   ]
  }
 ],
 "metadata": {
  "kernelspec": {
   "display_name": "Python 3",
   "language": "python",
   "name": "python3"
  },
  "language_info": {
   "codemirror_mode": {
    "name": "ipython",
    "version": 3
   },
   "file_extension": ".py",
   "mimetype": "text/x-python",
   "name": "python",
   "nbconvert_exporter": "python",
   "pygments_lexer": "ipython3",
   "version": "3.8.5"
  }
 },
 "nbformat": 4,
 "nbformat_minor": 2
}
